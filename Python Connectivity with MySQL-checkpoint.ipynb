{
 "cells": [
  {
   "cell_type": "markdown",
   "metadata": {},
   "source": [
    "# Python Connectivity with MYSQL"
   ]
  },
  {
   "cell_type": "markdown",
   "metadata": {},
   "source": [
    "Python needs a MySQL driver to access the MySQL database which is \"MySQL Connector\".\n",
    "\n",
    "Use pip to install \"MySQL Connector\".\n",
    "\n",
    "\n",
    "C:\\Users\\Your Name\\AppData\\Local\\Programs\\Python\\Python36-32\\Scripts>python -m pip install mysql-connector"
   ]
  },
  {
   "cell_type": "code",
   "execution_count": 7,
   "metadata": {},
   "outputs": [],
   "source": [
    "import mysql.connector"
   ]
  },
  {
   "cell_type": "code",
   "execution_count": 8,
   "metadata": {},
   "outputs": [],
   "source": [
    "con=mysql.connector.connect(user=\"root\",password=\"123\",host=\"localhost\",database=\"test\")"
   ]
  },
  {
   "cell_type": "markdown",
   "metadata": {},
   "source": [
    "Arguments required in connect() method\n",
    "\n",
    "•\tUser name –  i.e., the username that you use to work with MySQL Server. The default username for the MySQL database is a root\n",
    "•\tPassword – Password is given by the user at the time of installing the MySQL database. \n",
    "•\tHost Name  – is the server name or Ip address on which MySQL is running. if you are running on localhost, then you can use localhost, or it’s IP, i.e. 127.0.0.1\n",
    "•\tDatabase Name – Database name to which you want to connect. Here we are using Database named 'test'  because we have already created this for our example.\n"
   ]
  },
  {
   "cell_type": "code",
   "execution_count": 4,
   "metadata": {},
   "outputs": [
    {
     "name": "stdout",
     "output_type": "stream",
     "text": [
      "True\n"
     ]
    }
   ],
   "source": [
    "print(con.is_connected())\n",
    "# returns True if connection is established otherwise False"
   ]
  },
  {
   "cell_type": "code",
   "execution_count": 4,
   "metadata": {},
   "outputs": [
    {
     "name": "stdout",
     "output_type": "stream",
     "text": [
      "(1, 'puja', 'jp')\n",
      "(2, 'aadi', 'dw')\n",
      "(3, 'srish', 'dw')\n",
      "(4, 'raja', 'dw')\n"
     ]
    }
   ],
   "source": [
    "if con.is_connected(): \n",
    "    cur=con.cursor()\n",
    "    \n",
    "    cur.execute(\"select * from student\")\n",
    "    for i in cur:\n",
    "        print(i)\n",
    "    cur.close()\n",
    "    con.close()\n",
    "else:\n",
    "    print(\"sorry can't connected\")\n"
   ]
  },
  {
   "cell_type": "markdown",
   "metadata": {},
   "source": [
    "1.\tUse the  mysql.connector.connect()  method of MySQL Connector Python with required parameters to connect MySQL.\n",
    "2.\tUse the connection object returned by a  connect()  method to create a cursor object to perform Database Operations.\n",
    "3.\tThe cursor.execute() to execute SQL queries from Python.\n",
    "4.\tClose the Cursor object using a cursor.close() and MySQL database connection using connection.close() after your work completes.\n"
   ]
  },
  {
   "cell_type": "code",
   "execution_count": 8,
   "metadata": {},
   "outputs": [
    {
     "name": "stdout",
     "output_type": "stream",
     "text": [
      "<class 'list'> [(1, 'puja', 'jp'), (2, 'aadi', 'dw'), (3, 'srish', 'dw'), (4, 'raja', 'dw')]\n",
      "(1, 'puja', 'jp')\n",
      "(2, 'aadi', 'dw')\n",
      "(3, 'srish', 'dw')\n",
      "(4, 'raja', 'dw')\n"
     ]
    }
   ],
   "source": [
    "if con.is_connected(): \n",
    "    cur=con.cursor()\n",
    "    \n",
    "    cur.execute(\"select * from student\")\n",
    "    x=cur.fetchall()\n",
    "    print(type(x),x)\n",
    "    for i in x:\n",
    "        print(i)\n",
    "else:\n",
    "    print(\"sorry can't connected\")"
   ]
  },
  {
   "cell_type": "code",
   "execution_count": 5,
   "metadata": {},
   "outputs": [
    {
     "name": "stdout",
     "output_type": "stream",
     "text": [
      "<class 'tuple'> (1, 'puja', 'jp')\n",
      "<class 'tuple'> (2, 'aadi', 'dw')\n",
      "2\n",
      "aadi\n",
      "dw\n"
     ]
    }
   ],
   "source": [
    "if con.is_connected(): \n",
    "    cur=con.cursor()\n",
    "    \n",
    "    cur.execute(\"select * from student where admno<=3\")\n",
    "    x=cur.fetchone()\n",
    "    print(type(x),x)\n",
    "    x=cur.fetchone()\n",
    "    print(type(x),x)\n",
    "    for i in x:\n",
    "        print(i)\n",
    "\n",
    "else:\n",
    "    print(\"sorry can't connected\")"
   ]
  },
  {
   "cell_type": "code",
   "execution_count": 13,
   "metadata": {},
   "outputs": [
    {
     "name": "stdout",
     "output_type": "stream",
     "text": [
      "<class 'tuple'> (2, 'aadi', 'dw')\n",
      "2\n",
      "aadi\n",
      "dw\n",
      "<class 'tuple'> (3, 'srish', 'dw')\n",
      "3\n",
      "srish\n",
      "dw\n",
      "<class 'tuple'> (4, 'raja', 'dw')\n",
      "4\n",
      "raja\n",
      "dw\n"
     ]
    }
   ],
   "source": [
    "if con.is_connected(): \n",
    "    cur=con.cursor(buffered=True)\n",
    "    \n",
    "    cur.execute(\"select * from student where admno>=2\")\n",
    "    c=cur.rowcount\n",
    "    for i in range(c):\n",
    "            x=cur.fetchone()\n",
    "            if not x:\n",
    "                break\n",
    "            print(type(x),x)\n",
    "            for i in x:\n",
    "                print(i)\n",
    "\n",
    "else:\n",
    "    print(\"sorry can't connected\")"
   ]
  },
  {
   "cell_type": "code",
   "execution_count": 9,
   "metadata": {},
   "outputs": [
    {
     "name": "stdout",
     "output_type": "stream",
     "text": [
      "<class 'list'> [(3, 'srish', 'dw'), (4, 'raja', 'dw'), (1, 'puja', 'jp')]\n",
      "(3, 'srish', 'dw')\n",
      "(4, 'raja', 'dw')\n",
      "(1, 'puja', 'jp')\n",
      "<class 'list'> [(2, 'aadi', 'dw')]\n",
      "(2, 'aadi', 'dw')\n"
     ]
    }
   ],
   "source": [
    "if con.is_connected(): \n",
    "    cur=con.cursor()\n",
    "    \n",
    "    cur.execute(\"select * from student order by name desc\")\n",
    "    while True:\n",
    "            x=cur.fetchmany(3)\n",
    "            if not x:\n",
    "                break\n",
    "            print(type(x),x)\n",
    "            for i in x:\n",
    "                print(i)\n",
    "\n",
    "else:\n",
    "    print(\"sorry can't connected\")"
   ]
  },
  {
   "cell_type": "code",
   "execution_count": 10,
   "metadata": {},
   "outputs": [],
   "source": [
    "#Python Connectivity with MYSQL\n",
    "#to insert update, delete and select records\n",
    "import mysql.connector\n",
    "con=mysql.connector.connect(user=\"root\",password=\"123\",host=\"localhost\",database=\"test\")\n",
    "if con.is_connected(): \n",
    "    cur=con.cursor()\n",
    "    \n",
    "    cur.execute(\"update student set name='puja gupta' where name='puja'\")\n",
    "    con.commit()\n",
    "else:\n",
    "    print(\"sorry can't connected\")\n",
    "\n",
    "    #as auto commit is set by default to False, so need to commit to save changes \n",
    "\t#permanently in database\n"
   ]
  },
  {
   "cell_type": "code",
   "execution_count": 11,
   "metadata": {},
   "outputs": [],
   "source": [
    "#to insert a record\n",
    "cur=con.cursor()\n",
    "cur.execute(\"insert into student values(5,'raji','DW')\")\n",
    "con.commit()"
   ]
  },
  {
   "cell_type": "code",
   "execution_count": 12,
   "metadata": {},
   "outputs": [],
   "source": [
    "#to insert multiple records\n",
    "cur=con.cursor()\n",
    "cur.execute(\"insert into student values(6,'aaa','DW'),(7,'rrr','JP')\")\n",
    "con.commit()"
   ]
  },
  {
   "cell_type": "code",
   "execution_count": 16,
   "metadata": {},
   "outputs": [],
   "source": [
    "#insert a single record using string formatting operator\n",
    "cur=con.cursor()\n",
    "s=\"insert into student values(%s,%s,%s)\"\n",
    "a=(17,'tt','HN')\n",
    "cur.execute(s,a)\n",
    "con.commit()"
   ]
  },
  {
   "cell_type": "code",
   "execution_count": 17,
   "metadata": {},
   "outputs": [],
   "source": [
    "#insert multiple records using string formatting operator\n",
    "#and executemany() method\n",
    "cur=con.cursor()\n",
    "s=\"insert into student values(%s,%s,%s)\"\n",
    "a=[(18,'tt','HN'),(19,'gg','HN')]\n",
    "cur.executemany(s,a)\n",
    "con.commit()"
   ]
  },
  {
   "cell_type": "code",
   "execution_count": 18,
   "metadata": {},
   "outputs": [],
   "source": [
    "#delete a record\n",
    "cur=con.cursor()\n",
    "cur.execute(\"delete from student where admno=17\")\n",
    "con.commit()"
   ]
  },
  {
   "cell_type": "markdown",
   "metadata": {},
   "source": [
    "rowcount returns the number of rows affected by the last execute method for the same cur object and thus it returns -1 for the first cur. rowcount() will output -1 until you have fetched all rows of the result."
   ]
  },
  {
   "cell_type": "code",
   "execution_count": 28,
   "metadata": {},
   "outputs": [
    {
     "name": "stdout",
     "output_type": "stream",
     "text": [
      "-1\n",
      "3 [(2, 'aadi', 'dw'), (3, 'srish', 'dw'), (4, 'raja', 'dw')]\n"
     ]
    }
   ],
   "source": [
    "import mysql.connector\n",
    "con=mysql.connector.connect(user=\"root\",password=\"123\",host=\"localhost\",database=\"test\")\n",
    "\n",
    "if con.is_connected(): \n",
    "    cur=con.cursor()\n",
    "    \n",
    "    cur.execute(\"select * from student where admno>=2\")\n",
    "    print(cur.rowcount)\n",
    "    x=cur.fetchmany(3)\n",
    "    print(cur.rowcount,x)\n",
    "else:\n",
    "    print(\"sorry can't connected\")"
   ]
  },
  {
   "cell_type": "markdown",
   "metadata": {},
   "source": [
    "buffered=True\n",
    "We have used my_cursor as buffered cursor.\n",
    "my_cursor = my_connect.cursor(buffered=True)\n",
    "This type cursor fetches rows and buffers them after getting output from MySQL database. We can use such cursor as iterator. There is no point in using buffered cursor for single fetching of rows.\n",
    "\n",
    "If we don’t use buffered cursor then we will get -1 as output from rowcount"
   ]
  },
  {
   "cell_type": "code",
   "execution_count": 30,
   "metadata": {},
   "outputs": [
    {
     "name": "stdout",
     "output_type": "stream",
     "text": [
      "3\n"
     ]
    }
   ],
   "source": [
    "import mysql.connector\n",
    "con=mysql.connector.connect(user=\"root\",password=\"123\",host=\"localhost\",database=\"test\")\n",
    "\n",
    "if con.is_connected(): \n",
    "    cur=con.cursor(buffered=True)\n",
    "    \n",
    "    cur.execute(\"select * from student where name like 'r%'\")\n",
    "    print(cur.rowcount)\n",
    "    \n",
    "else:\n",
    "    print(\"sorry can't connected\")"
   ]
  },
  {
   "cell_type": "code",
   "execution_count": 30,
   "metadata": {},
   "outputs": [
    {
     "name": "stdout",
     "output_type": "stream",
     "text": [
      "rows affected are 1\n"
     ]
    }
   ],
   "source": [
    "#to update record with rowcount\n",
    "if con.is_connected(): \n",
    "    cur=con.cursor(buffered=True)\n",
    "    cur.execute(\"update student set name='puja' where name='puja gupta'\")\n",
    "    print(\"rows affected are\",cur.rowcount)\n",
    "    con.commit()\n",
    "else:\n",
    "    print(\"sorry can't connected\")\n",
    "\n",
    "    #as auto commit is set by default to False, so need to commit to save changes \n",
    "\t#permanently in database"
   ]
  },
  {
   "cell_type": "code",
   "execution_count": 31,
   "metadata": {},
   "outputs": [],
   "source": [
    "#if u have to create database and table in it\n",
    "import mysql.connector\n",
    "con=mysql.connector.connect(user=\"root\",password=\"123\",host=\"localhost\")"
   ]
  },
  {
   "cell_type": "code",
   "execution_count": 32,
   "metadata": {},
   "outputs": [],
   "source": [
    "cur=con.cursor()\n",
    "cur.execute(\"create database ff\")\n",
    "cur.execute(\"use ff\")\n",
    "cur.execute(\"create table st(admno int,name varchar(30))\")\n"
   ]
  },
  {
   "cell_type": "code",
   "execution_count": 33,
   "metadata": {},
   "outputs": [],
   "source": [
    "cur.execute(\"insert into st values(1,'a')\")\n",
    "con.commit()"
   ]
  },
  {
   "cell_type": "code",
   "execution_count": null,
   "metadata": {},
   "outputs": [],
   "source": []
  }
 ],
 "metadata": {
  "kernelspec": {
   "display_name": "Python 3",
   "language": "python",
   "name": "python3"
  },
  "language_info": {
   "codemirror_mode": {
    "name": "ipython",
    "version": 3
   },
   "file_extension": ".py",
   "mimetype": "text/x-python",
   "name": "python",
   "nbconvert_exporter": "python",
   "pygments_lexer": "ipython3",
   "version": "3.8.2"
  }
 },
 "nbformat": 4,
 "nbformat_minor": 2
}
